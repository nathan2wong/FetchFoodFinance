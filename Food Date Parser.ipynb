{
 "cells": [
  {
   "cell_type": "code",
   "execution_count": 1,
   "metadata": {},
   "outputs": [],
   "source": [
    "import pandas as pd"
   ]
  },
  {
   "cell_type": "code",
   "execution_count": 4,
   "metadata": {},
   "outputs": [
    {
     "name": "stderr",
     "output_type": "stream",
     "text": [
      "/Users/nathanwong/Downloads/yes/envs/nathan/lib/python3.7/site-packages/IPython/core/interactiveshell.py:2785: DtypeWarning: Columns (5) have mixed types. Specify dtype option on import or set low_memory=False.\n",
      "  interactivity=interactivity, compiler=compiler, result=result)\n"
     ]
    }
   ],
   "source": [
    "allData = pd.read_csv(\"LAHacks Deidentified.csv\")\n"
   ]
  },
  {
   "cell_type": "code",
   "execution_count": 5,
   "metadata": {},
   "outputs": [
    {
     "data": {
      "text/html": [
       "<div>\n",
       "<style scoped>\n",
       "    .dataframe tbody tr th:only-of-type {\n",
       "        vertical-align: middle;\n",
       "    }\n",
       "\n",
       "    .dataframe tbody tr th {\n",
       "        vertical-align: top;\n",
       "    }\n",
       "\n",
       "    .dataframe thead th {\n",
       "        text-align: right;\n",
       "    }\n",
       "</style>\n",
       "<table border=\"1\" class=\"dataframe\">\n",
       "  <thead>\n",
       "    <tr style=\"text-align: right;\">\n",
       "      <th></th>\n",
       "      <th>UPC</th>\n",
       "      <th>Category Name</th>\n",
       "      <th>Vendor Name</th>\n",
       "      <th>Receiving Warehouse</th>\n",
       "      <th>Shipping Warehouse</th>\n",
       "      <th>PO</th>\n",
       "      <th>Total Cases</th>\n",
       "      <th>Failed Cases</th>\n",
       "      <th>Inspector</th>\n",
       "      <th>Arrival Date</th>\n",
       "      <th>Shipping Date</th>\n",
       "    </tr>\n",
       "  </thead>\n",
       "  <tbody>\n",
       "    <tr>\n",
       "      <th>0</th>\n",
       "      <td>4.856800e+05</td>\n",
       "      <td>White Cabbages</td>\n",
       "      <td>Vendor  63b9d36c</td>\n",
       "      <td>Warehouse  886ecdf1</td>\n",
       "      <td>Warehouse  e5847f7c</td>\n",
       "      <td>248117</td>\n",
       "      <td>385</td>\n",
       "      <td>0</td>\n",
       "      <td>Inspector  4bb23bf2</td>\n",
       "      <td>15-MAR-18</td>\n",
       "      <td>12-MAR-18</td>\n",
       "    </tr>\n",
       "    <tr>\n",
       "      <th>1</th>\n",
       "      <td>7.143000e+09</td>\n",
       "      <td>Unassigned</td>\n",
       "      <td>Vendor  ee6aa404</td>\n",
       "      <td>Warehouse  cb7cd2e2</td>\n",
       "      <td>Warehouse  773064a8</td>\n",
       "      <td>50246763</td>\n",
       "      <td>5</td>\n",
       "      <td>0</td>\n",
       "      <td>Inspector  c8d7555b</td>\n",
       "      <td>31-AUG-18</td>\n",
       "      <td>30-AUG-18</td>\n",
       "    </tr>\n",
       "    <tr>\n",
       "      <th>2</th>\n",
       "      <td>7.143001e+09</td>\n",
       "      <td>Unassigned</td>\n",
       "      <td>Vendor  ee6aa404</td>\n",
       "      <td>Warehouse  cb7cd2e2</td>\n",
       "      <td>Warehouse  773064a8</td>\n",
       "      <td>50246763</td>\n",
       "      <td>10</td>\n",
       "      <td>0</td>\n",
       "      <td>Inspector  c8d7555b</td>\n",
       "      <td>31-AUG-18</td>\n",
       "      <td>30-AUG-18</td>\n",
       "    </tr>\n",
       "    <tr>\n",
       "      <th>3</th>\n",
       "      <td>7.143001e+09</td>\n",
       "      <td>Unassigned</td>\n",
       "      <td>Vendor  ee6aa404</td>\n",
       "      <td>Warehouse  cb7cd2e2</td>\n",
       "      <td>Warehouse  773064a8</td>\n",
       "      <td>50246763</td>\n",
       "      <td>100</td>\n",
       "      <td>0</td>\n",
       "      <td>Inspector  c8d7555b</td>\n",
       "      <td>31-AUG-18</td>\n",
       "      <td>30-AUG-18</td>\n",
       "    </tr>\n",
       "    <tr>\n",
       "      <th>4</th>\n",
       "      <td>7.143000e+09</td>\n",
       "      <td>Unassigned</td>\n",
       "      <td>Vendor  ee6aa404</td>\n",
       "      <td>Warehouse  cb7cd2e2</td>\n",
       "      <td>Warehouse  773064a8</td>\n",
       "      <td>50246763</td>\n",
       "      <td>5</td>\n",
       "      <td>0</td>\n",
       "      <td>Inspector  c8d7555b</td>\n",
       "      <td>31-AUG-18</td>\n",
       "      <td>30-AUG-18</td>\n",
       "    </tr>\n",
       "  </tbody>\n",
       "</table>\n",
       "</div>"
      ],
      "text/plain": [
       "            UPC   Category Name       Vendor Name  Receiving Warehouse  \\\n",
       "0  4.856800e+05  White Cabbages  Vendor  63b9d36c  Warehouse  886ecdf1   \n",
       "1  7.143000e+09      Unassigned  Vendor  ee6aa404  Warehouse  cb7cd2e2   \n",
       "2  7.143001e+09      Unassigned  Vendor  ee6aa404  Warehouse  cb7cd2e2   \n",
       "3  7.143001e+09      Unassigned  Vendor  ee6aa404  Warehouse  cb7cd2e2   \n",
       "4  7.143000e+09      Unassigned  Vendor  ee6aa404  Warehouse  cb7cd2e2   \n",
       "\n",
       "    Shipping Warehouse        PO  Total Cases  Failed Cases  \\\n",
       "0  Warehouse  e5847f7c    248117          385             0   \n",
       "1  Warehouse  773064a8  50246763            5             0   \n",
       "2  Warehouse  773064a8  50246763           10             0   \n",
       "3  Warehouse  773064a8  50246763          100             0   \n",
       "4  Warehouse  773064a8  50246763            5             0   \n",
       "\n",
       "             Inspector Arrival Date Shipping Date  \n",
       "0  Inspector  4bb23bf2    15-MAR-18     12-MAR-18  \n",
       "1  Inspector  c8d7555b    31-AUG-18     30-AUG-18  \n",
       "2  Inspector  c8d7555b    31-AUG-18     30-AUG-18  \n",
       "3  Inspector  c8d7555b    31-AUG-18     30-AUG-18  \n",
       "4  Inspector  c8d7555b    31-AUG-18     30-AUG-18  "
      ]
     },
     "execution_count": 5,
     "metadata": {},
     "output_type": "execute_result"
    }
   ],
   "source": [
    "allData.head()"
   ]
  },
  {
   "cell_type": "code",
   "execution_count": null,
   "metadata": {},
   "outputs": [],
   "source": []
  }
 ],
 "metadata": {
  "kernelspec": {
   "display_name": "Python 3",
   "language": "python",
   "name": "python3"
  },
  "language_info": {
   "codemirror_mode": {
    "name": "ipython",
    "version": 3
   },
   "file_extension": ".py",
   "mimetype": "text/x-python",
   "name": "python",
   "nbconvert_exporter": "python",
   "pygments_lexer": "ipython3",
   "version": "3.7.2"
  }
 },
 "nbformat": 4,
 "nbformat_minor": 2
}
