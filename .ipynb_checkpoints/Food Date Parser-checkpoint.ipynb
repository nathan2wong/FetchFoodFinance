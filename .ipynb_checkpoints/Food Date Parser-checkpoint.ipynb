{
 "cells": [
  {
   "cell_type": "code",
<<<<<<< HEAD
   "execution_count": 6,
   "metadata": {},
   "outputs": [],
   "source": [
    "import pandas as pd\n",
    "import matplotlib.pyplot as plt\n",
    "%matplotlib inline\n",
    "import numpy as np"
=======
   "execution_count": 1,
   "metadata": {},
   "outputs": [],
   "source": [
    "import pandas as pd"
>>>>>>> e28be6832f10bc16131a7d696d552b27f6341705
   ]
  },
  {
   "cell_type": "code",
<<<<<<< HEAD
   "execution_count": 7,
=======
   "execution_count": 4,
>>>>>>> e28be6832f10bc16131a7d696d552b27f6341705
   "metadata": {},
   "outputs": [
    {
     "name": "stderr",
     "output_type": "stream",
     "text": [
      "/Users/nathanwong/Downloads/yes/envs/nathan/lib/python3.7/site-packages/IPython/core/interactiveshell.py:2785: DtypeWarning: Columns (5) have mixed types. Specify dtype option on import or set low_memory=False.\n",
      "  interactivity=interactivity, compiler=compiler, result=result)\n"
     ]
    }
   ],
   "source": [
<<<<<<< HEAD
    "allData = pd.read_csv(\"LAHacks Deidentified.csv\")"
=======
    "allData = pd.read_csv(\"LAHacks Deidentified.csv\")\n"
>>>>>>> e28be6832f10bc16131a7d696d552b27f6341705
   ]
  },
  {
   "cell_type": "code",
<<<<<<< HEAD
   "execution_count": 8,
=======
   "execution_count": 5,
>>>>>>> e28be6832f10bc16131a7d696d552b27f6341705
   "metadata": {},
   "outputs": [
    {
     "data": {
      "text/html": [
       "<div>\n",
       "<style scoped>\n",
       "    .dataframe tbody tr th:only-of-type {\n",
       "        vertical-align: middle;\n",
       "    }\n",
       "\n",
       "    .dataframe tbody tr th {\n",
       "        vertical-align: top;\n",
       "    }\n",
       "\n",
       "    .dataframe thead th {\n",
       "        text-align: right;\n",
       "    }\n",
       "</style>\n",
       "<table border=\"1\" class=\"dataframe\">\n",
       "  <thead>\n",
       "    <tr style=\"text-align: right;\">\n",
       "      <th></th>\n",
       "      <th>UPC</th>\n",
       "      <th>Category Name</th>\n",
       "      <th>Vendor Name</th>\n",
       "      <th>Receiving Warehouse</th>\n",
       "      <th>Shipping Warehouse</th>\n",
       "      <th>PO</th>\n",
       "      <th>Total Cases</th>\n",
       "      <th>Failed Cases</th>\n",
       "      <th>Inspector</th>\n",
       "      <th>Arrival Date</th>\n",
       "      <th>Shipping Date</th>\n",
       "    </tr>\n",
       "  </thead>\n",
       "  <tbody>\n",
       "    <tr>\n",
       "      <th>0</th>\n",
       "      <td>4.856800e+05</td>\n",
       "      <td>White Cabbages</td>\n",
       "      <td>Vendor  63b9d36c</td>\n",
       "      <td>Warehouse  886ecdf1</td>\n",
       "      <td>Warehouse  e5847f7c</td>\n",
       "      <td>248117</td>\n",
       "      <td>385</td>\n",
       "      <td>0</td>\n",
       "      <td>Inspector  4bb23bf2</td>\n",
       "      <td>15-MAR-18</td>\n",
       "      <td>12-MAR-18</td>\n",
       "    </tr>\n",
       "    <tr>\n",
       "      <th>1</th>\n",
       "      <td>7.143000e+09</td>\n",
       "      <td>Unassigned</td>\n",
       "      <td>Vendor  ee6aa404</td>\n",
       "      <td>Warehouse  cb7cd2e2</td>\n",
       "      <td>Warehouse  773064a8</td>\n",
       "      <td>50246763</td>\n",
       "      <td>5</td>\n",
       "      <td>0</td>\n",
       "      <td>Inspector  c8d7555b</td>\n",
       "      <td>31-AUG-18</td>\n",
       "      <td>30-AUG-18</td>\n",
       "    </tr>\n",
       "    <tr>\n",
       "      <th>2</th>\n",
       "      <td>7.143001e+09</td>\n",
       "      <td>Unassigned</td>\n",
       "      <td>Vendor  ee6aa404</td>\n",
       "      <td>Warehouse  cb7cd2e2</td>\n",
       "      <td>Warehouse  773064a8</td>\n",
       "      <td>50246763</td>\n",
       "      <td>10</td>\n",
       "      <td>0</td>\n",
       "      <td>Inspector  c8d7555b</td>\n",
       "      <td>31-AUG-18</td>\n",
       "      <td>30-AUG-18</td>\n",
       "    </tr>\n",
       "    <tr>\n",
       "      <th>3</th>\n",
       "      <td>7.143001e+09</td>\n",
       "      <td>Unassigned</td>\n",
       "      <td>Vendor  ee6aa404</td>\n",
       "      <td>Warehouse  cb7cd2e2</td>\n",
       "      <td>Warehouse  773064a8</td>\n",
       "      <td>50246763</td>\n",
       "      <td>100</td>\n",
       "      <td>0</td>\n",
       "      <td>Inspector  c8d7555b</td>\n",
       "      <td>31-AUG-18</td>\n",
       "      <td>30-AUG-18</td>\n",
       "    </tr>\n",
       "    <tr>\n",
       "      <th>4</th>\n",
       "      <td>7.143000e+09</td>\n",
       "      <td>Unassigned</td>\n",
       "      <td>Vendor  ee6aa404</td>\n",
       "      <td>Warehouse  cb7cd2e2</td>\n",
       "      <td>Warehouse  773064a8</td>\n",
       "      <td>50246763</td>\n",
       "      <td>5</td>\n",
       "      <td>0</td>\n",
       "      <td>Inspector  c8d7555b</td>\n",
       "      <td>31-AUG-18</td>\n",
       "      <td>30-AUG-18</td>\n",
       "    </tr>\n",
       "  </tbody>\n",
       "</table>\n",
       "</div>"
      ],
      "text/plain": [
       "            UPC   Category Name       Vendor Name  Receiving Warehouse  \\\n",
       "0  4.856800e+05  White Cabbages  Vendor  63b9d36c  Warehouse  886ecdf1   \n",
       "1  7.143000e+09      Unassigned  Vendor  ee6aa404  Warehouse  cb7cd2e2   \n",
       "2  7.143001e+09      Unassigned  Vendor  ee6aa404  Warehouse  cb7cd2e2   \n",
       "3  7.143001e+09      Unassigned  Vendor  ee6aa404  Warehouse  cb7cd2e2   \n",
       "4  7.143000e+09      Unassigned  Vendor  ee6aa404  Warehouse  cb7cd2e2   \n",
       "\n",
       "    Shipping Warehouse        PO  Total Cases  Failed Cases  \\\n",
       "0  Warehouse  e5847f7c    248117          385             0   \n",
       "1  Warehouse  773064a8  50246763            5             0   \n",
       "2  Warehouse  773064a8  50246763           10             0   \n",
       "3  Warehouse  773064a8  50246763          100             0   \n",
       "4  Warehouse  773064a8  50246763            5             0   \n",
       "\n",
       "             Inspector Arrival Date Shipping Date  \n",
       "0  Inspector  4bb23bf2    15-MAR-18     12-MAR-18  \n",
       "1  Inspector  c8d7555b    31-AUG-18     30-AUG-18  \n",
       "2  Inspector  c8d7555b    31-AUG-18     30-AUG-18  \n",
       "3  Inspector  c8d7555b    31-AUG-18     30-AUG-18  \n",
       "4  Inspector  c8d7555b    31-AUG-18     30-AUG-18  "
      ]
     },
<<<<<<< HEAD
     "execution_count": 8,
=======
     "execution_count": 5,
>>>>>>> e28be6832f10bc16131a7d696d552b27f6341705
     "metadata": {},
     "output_type": "execute_result"
    }
   ],
   "source": [
    "allData.head()"
   ]
  },
  {
   "cell_type": "code",
<<<<<<< HEAD
   "execution_count": 9,
=======
   "execution_count": 8,
>>>>>>> e28be6832f10bc16131a7d696d552b27f6341705
   "metadata": {},
   "outputs": [
    {
     "data": {
      "text/plain": [
       "(227619, 11)"
      ]
     },
<<<<<<< HEAD
     "execution_count": 9,
=======
     "execution_count": 8,
>>>>>>> e28be6832f10bc16131a7d696d552b27f6341705
     "metadata": {},
     "output_type": "execute_result"
    }
   ],
   "source": [
    "allData.shape"
   ]
  },
  {
   "cell_type": "code",
<<<<<<< HEAD
   "execution_count": 29,
   "metadata": {},
   "outputs": [],
   "source": [
    "Dates = [\"JAN\", \"FEB\", \"MAR\", \"APR\", \"MAY\", \"JUN\", \"JUL\", \"AUG\", \"SEP\", \"OCT\", \"NOV\", \"DEC\"]\n",
    "Conversion = {}"
   ]
  },
  {
   "cell_type": "code",
   "execution_count": 30,
   "metadata": {},
   "outputs": [],
   "source": [
    "index = 1\n",
    "for date in Dates:\n",
    "    Conversion[date] = index\n",
    "    index += 1"
   ]
  },
  {
   "cell_type": "code",
   "execution_count": 31,
   "metadata": {},
   "outputs": [
    {
     "data": {
      "text/plain": [
       "{'JAN': 1,\n",
       " 'FEB': 2,\n",
       " 'MAR': 3,\n",
       " 'APR': 4,\n",
       " 'MAY': 5,\n",
       " 'JUN': 6,\n",
       " 'JUL': 7,\n",
       " 'AUG': 8,\n",
       " 'SEP': 9,\n",
       " 'OCT': 10,\n",
       " 'NOV': 11,\n",
       " 'DEC': 12}"
      ]
     },
     "execution_count": 31,
     "metadata": {},
     "output_type": "execute_result"
    }
   ],
   "source": [
    "Conversion"
   ]
  },
  {
   "cell_type": "code",
   "execution_count": 22,
   "metadata": {},
   "outputs": [],
   "source": [
    "lessDat = allData[1:10000]"
   ]
  },
  {
   "cell_type": "code",
   "execution_count": 25,
   "metadata": {},
   "outputs": [
    {
     "data": {
      "text/plain": [
       "1       31-AUG-18\n",
       "2       31-AUG-18\n",
       "3       31-AUG-18\n",
       "4       31-AUG-18\n",
       "5       31-AUG-18\n",
       "6       31-AUG-18\n",
       "7       31-AUG-18\n",
       "8       31-AUG-18\n",
       "9       31-AUG-18\n",
       "10      31-AUG-18\n",
       "11      31-AUG-18\n",
       "12      31-AUG-18\n",
       "13      31-AUG-18\n",
       "14      31-AUG-18\n",
       "15      31-AUG-18\n",
       "16      31-AUG-18\n",
       "17      31-AUG-18\n",
       "18      31-AUG-18\n",
       "19      31-AUG-18\n",
       "20      31-AUG-18\n",
       "21      31-AUG-18\n",
       "22      31-AUG-18\n",
       "23      31-AUG-18\n",
       "24      31-AUG-18\n",
       "25      31-AUG-18\n",
       "26      31-AUG-18\n",
       "27      31-AUG-18\n",
       "28      31-AUG-18\n",
       "29      31-AUG-18\n",
       "30      31-AUG-18\n",
       "          ...    \n",
       "9970    24-SEP-18\n",
       "9971    24-SEP-18\n",
       "9972    24-SEP-18\n",
       "9973    24-SEP-18\n",
       "9974    24-SEP-18\n",
       "9975    24-SEP-18\n",
       "9976    24-SEP-18\n",
       "9977    24-SEP-18\n",
       "9978    24-SEP-18\n",
       "9979    24-SEP-18\n",
       "9980    24-SEP-18\n",
       "9981    24-SEP-18\n",
       "9982    24-SEP-18\n",
       "9983    24-SEP-18\n",
       "9984    24-SEP-18\n",
       "9985    24-SEP-18\n",
       "9986    24-SEP-18\n",
       "9987    24-SEP-18\n",
       "9988    24-SEP-18\n",
       "9989    24-SEP-18\n",
       "9990    24-SEP-18\n",
       "9991    24-SEP-18\n",
       "9992    24-SEP-18\n",
       "9993    24-SEP-18\n",
       "9994    24-SEP-18\n",
       "9995    24-SEP-18\n",
       "9996    24-SEP-18\n",
       "9997    24-SEP-18\n",
       "9998    24-SEP-18\n",
       "9999    24-SEP-18\n",
       "Name: Arrival Date, Length: 9999, dtype: object"
      ]
     },
     "execution_count": 25,
     "metadata": {},
     "output_type": "execute_result"
    }
   ],
   "source": [
    "lessDat[\"Arrival Date\"]"
   ]
  },
  {
   "cell_type": "code",
   "execution_count": 52,
   "metadata": {},
   "outputs": [],
   "source": [
    "testStr = \"24-SEP-18\"\n",
    "def convertDate(testStr):\n",
    "    testArr = testStr.split(\"-\")\n",
    "    if testArr[1] in Conversion.keys():\n",
    "        return Conversion[testArr[1]] + int(testArr[0])/31"
   ]
  },
  {
   "cell_type": "code",
   "execution_count": 53,
   "metadata": {},
   "outputs": [
    {
     "data": {
      "text/plain": [
       "9.774193548387096"
      ]
     },
     "execution_count": 53,
     "metadata": {},
     "output_type": "execute_result"
    }
   ],
   "source": [
    "convertDate(testStr)"
   ]
  },
  {
   "cell_type": "code",
   "execution_count": 54,
   "metadata": {},
   "outputs": [
    {
     "ename": "AttributeError",
     "evalue": "(\"'Series' object has no attribute 'split'\", 'occurred at index UPC')",
     "output_type": "error",
     "traceback": [
      "\u001b[0;31m---------------------------------------------------------------------------\u001b[0m",
      "\u001b[0;31mAttributeError\u001b[0m                            Traceback (most recent call last)",
      "\u001b[0;32m<ipython-input-54-07ea5055af88>\u001b[0m in \u001b[0;36m<module>\u001b[0;34m()\u001b[0m\n\u001b[0;32m----> 1\u001b[0;31m \u001b[0mlessDat\u001b[0m\u001b[0;34m.\u001b[0m\u001b[0mapply\u001b[0m\u001b[0;34m(\u001b[0m\u001b[0mconvertDate\u001b[0m\u001b[0;34m)\u001b[0m\u001b[0;34m\u001b[0m\u001b[0m\n\u001b[0m",
      "\u001b[0;32m~/Downloads/yes/envs/nathan/lib/python3.7/site-packages/pandas/core/frame.py\u001b[0m in \u001b[0;36mapply\u001b[0;34m(self, func, axis, broadcast, raw, reduce, result_type, args, **kwds)\u001b[0m\n\u001b[1;32m   6485\u001b[0m                          \u001b[0margs\u001b[0m\u001b[0;34m=\u001b[0m\u001b[0margs\u001b[0m\u001b[0;34m,\u001b[0m\u001b[0;34m\u001b[0m\u001b[0m\n\u001b[1;32m   6486\u001b[0m                          kwds=kwds)\n\u001b[0;32m-> 6487\u001b[0;31m         \u001b[0;32mreturn\u001b[0m \u001b[0mop\u001b[0m\u001b[0;34m.\u001b[0m\u001b[0mget_result\u001b[0m\u001b[0;34m(\u001b[0m\u001b[0;34m)\u001b[0m\u001b[0;34m\u001b[0m\u001b[0m\n\u001b[0m\u001b[1;32m   6488\u001b[0m \u001b[0;34m\u001b[0m\u001b[0m\n\u001b[1;32m   6489\u001b[0m     \u001b[0;32mdef\u001b[0m \u001b[0mapplymap\u001b[0m\u001b[0;34m(\u001b[0m\u001b[0mself\u001b[0m\u001b[0;34m,\u001b[0m \u001b[0mfunc\u001b[0m\u001b[0;34m)\u001b[0m\u001b[0;34m:\u001b[0m\u001b[0;34m\u001b[0m\u001b[0m\n",
      "\u001b[0;32m~/Downloads/yes/envs/nathan/lib/python3.7/site-packages/pandas/core/apply.py\u001b[0m in \u001b[0;36mget_result\u001b[0;34m(self)\u001b[0m\n\u001b[1;32m    149\u001b[0m             \u001b[0;32mreturn\u001b[0m \u001b[0mself\u001b[0m\u001b[0;34m.\u001b[0m\u001b[0mapply_raw\u001b[0m\u001b[0;34m(\u001b[0m\u001b[0;34m)\u001b[0m\u001b[0;34m\u001b[0m\u001b[0m\n\u001b[1;32m    150\u001b[0m \u001b[0;34m\u001b[0m\u001b[0m\n\u001b[0;32m--> 151\u001b[0;31m         \u001b[0;32mreturn\u001b[0m \u001b[0mself\u001b[0m\u001b[0;34m.\u001b[0m\u001b[0mapply_standard\u001b[0m\u001b[0;34m(\u001b[0m\u001b[0;34m)\u001b[0m\u001b[0;34m\u001b[0m\u001b[0m\n\u001b[0m\u001b[1;32m    152\u001b[0m \u001b[0;34m\u001b[0m\u001b[0m\n\u001b[1;32m    153\u001b[0m     \u001b[0;32mdef\u001b[0m \u001b[0mapply_empty_result\u001b[0m\u001b[0;34m(\u001b[0m\u001b[0mself\u001b[0m\u001b[0;34m)\u001b[0m\u001b[0;34m:\u001b[0m\u001b[0;34m\u001b[0m\u001b[0m\n",
      "\u001b[0;32m~/Downloads/yes/envs/nathan/lib/python3.7/site-packages/pandas/core/apply.py\u001b[0m in \u001b[0;36mapply_standard\u001b[0;34m(self)\u001b[0m\n\u001b[1;32m    255\u001b[0m \u001b[0;34m\u001b[0m\u001b[0m\n\u001b[1;32m    256\u001b[0m         \u001b[0;31m# compute the result using the series generator\u001b[0m\u001b[0;34m\u001b[0m\u001b[0;34m\u001b[0m\u001b[0m\n\u001b[0;32m--> 257\u001b[0;31m         \u001b[0mself\u001b[0m\u001b[0;34m.\u001b[0m\u001b[0mapply_series_generator\u001b[0m\u001b[0;34m(\u001b[0m\u001b[0;34m)\u001b[0m\u001b[0;34m\u001b[0m\u001b[0m\n\u001b[0m\u001b[1;32m    258\u001b[0m \u001b[0;34m\u001b[0m\u001b[0m\n\u001b[1;32m    259\u001b[0m         \u001b[0;31m# wrap results\u001b[0m\u001b[0;34m\u001b[0m\u001b[0;34m\u001b[0m\u001b[0m\n",
      "\u001b[0;32m~/Downloads/yes/envs/nathan/lib/python3.7/site-packages/pandas/core/apply.py\u001b[0m in \u001b[0;36mapply_series_generator\u001b[0;34m(self)\u001b[0m\n\u001b[1;32m    284\u001b[0m             \u001b[0;32mtry\u001b[0m\u001b[0;34m:\u001b[0m\u001b[0;34m\u001b[0m\u001b[0m\n\u001b[1;32m    285\u001b[0m                 \u001b[0;32mfor\u001b[0m \u001b[0mi\u001b[0m\u001b[0;34m,\u001b[0m \u001b[0mv\u001b[0m \u001b[0;32min\u001b[0m \u001b[0menumerate\u001b[0m\u001b[0;34m(\u001b[0m\u001b[0mseries_gen\u001b[0m\u001b[0;34m)\u001b[0m\u001b[0;34m:\u001b[0m\u001b[0;34m\u001b[0m\u001b[0m\n\u001b[0;32m--> 286\u001b[0;31m                     \u001b[0mresults\u001b[0m\u001b[0;34m[\u001b[0m\u001b[0mi\u001b[0m\u001b[0;34m]\u001b[0m \u001b[0;34m=\u001b[0m \u001b[0mself\u001b[0m\u001b[0;34m.\u001b[0m\u001b[0mf\u001b[0m\u001b[0;34m(\u001b[0m\u001b[0mv\u001b[0m\u001b[0;34m)\u001b[0m\u001b[0;34m\u001b[0m\u001b[0m\n\u001b[0m\u001b[1;32m    287\u001b[0m                     \u001b[0mkeys\u001b[0m\u001b[0;34m.\u001b[0m\u001b[0mappend\u001b[0m\u001b[0;34m(\u001b[0m\u001b[0mv\u001b[0m\u001b[0;34m.\u001b[0m\u001b[0mname\u001b[0m\u001b[0;34m)\u001b[0m\u001b[0;34m\u001b[0m\u001b[0m\n\u001b[1;32m    288\u001b[0m             \u001b[0;32mexcept\u001b[0m \u001b[0mException\u001b[0m \u001b[0;32mas\u001b[0m \u001b[0me\u001b[0m\u001b[0;34m:\u001b[0m\u001b[0;34m\u001b[0m\u001b[0m\n",
      "\u001b[0;32m<ipython-input-52-8685b629ac98>\u001b[0m in \u001b[0;36mconvertDate\u001b[0;34m(testStr)\u001b[0m\n\u001b[1;32m      1\u001b[0m \u001b[0mtestStr\u001b[0m \u001b[0;34m=\u001b[0m \u001b[0;34m\"24-SEP-18\"\u001b[0m\u001b[0;34m\u001b[0m\u001b[0m\n\u001b[1;32m      2\u001b[0m \u001b[0;32mdef\u001b[0m \u001b[0mconvertDate\u001b[0m\u001b[0;34m(\u001b[0m\u001b[0mtestStr\u001b[0m\u001b[0;34m)\u001b[0m\u001b[0;34m:\u001b[0m\u001b[0;34m\u001b[0m\u001b[0m\n\u001b[0;32m----> 3\u001b[0;31m     \u001b[0mtestArr\u001b[0m \u001b[0;34m=\u001b[0m \u001b[0mtestStr\u001b[0m\u001b[0;34m.\u001b[0m\u001b[0msplit\u001b[0m\u001b[0;34m(\u001b[0m\u001b[0;34m\"-\"\u001b[0m\u001b[0;34m)\u001b[0m\u001b[0;34m\u001b[0m\u001b[0m\n\u001b[0m\u001b[1;32m      4\u001b[0m     \u001b[0;32mif\u001b[0m \u001b[0mtestArr\u001b[0m\u001b[0;34m[\u001b[0m\u001b[0;36m1\u001b[0m\u001b[0;34m]\u001b[0m \u001b[0;32min\u001b[0m \u001b[0mConversion\u001b[0m\u001b[0;34m.\u001b[0m\u001b[0mkeys\u001b[0m\u001b[0;34m(\u001b[0m\u001b[0;34m)\u001b[0m\u001b[0;34m:\u001b[0m\u001b[0;34m\u001b[0m\u001b[0m\n\u001b[1;32m      5\u001b[0m         \u001b[0;32mreturn\u001b[0m \u001b[0mConversion\u001b[0m\u001b[0;34m[\u001b[0m\u001b[0mtestArr\u001b[0m\u001b[0;34m[\u001b[0m\u001b[0;36m1\u001b[0m\u001b[0;34m]\u001b[0m\u001b[0;34m]\u001b[0m \u001b[0;34m+\u001b[0m \u001b[0mint\u001b[0m\u001b[0;34m(\u001b[0m\u001b[0mtestArr\u001b[0m\u001b[0;34m[\u001b[0m\u001b[0;36m0\u001b[0m\u001b[0;34m]\u001b[0m\u001b[0;34m)\u001b[0m\u001b[0;34m/\u001b[0m\u001b[0;36m31\u001b[0m\u001b[0;34m\u001b[0m\u001b[0m\n",
      "\u001b[0;32m~/Downloads/yes/envs/nathan/lib/python3.7/site-packages/pandas/core/generic.py\u001b[0m in \u001b[0;36m__getattr__\u001b[0;34m(self, name)\u001b[0m\n\u001b[1;32m   5065\u001b[0m             \u001b[0;32mif\u001b[0m \u001b[0mself\u001b[0m\u001b[0;34m.\u001b[0m\u001b[0m_info_axis\u001b[0m\u001b[0;34m.\u001b[0m\u001b[0m_can_hold_identifiers_and_holds_name\u001b[0m\u001b[0;34m(\u001b[0m\u001b[0mname\u001b[0m\u001b[0;34m)\u001b[0m\u001b[0;34m:\u001b[0m\u001b[0;34m\u001b[0m\u001b[0m\n\u001b[1;32m   5066\u001b[0m                 \u001b[0;32mreturn\u001b[0m \u001b[0mself\u001b[0m\u001b[0;34m[\u001b[0m\u001b[0mname\u001b[0m\u001b[0;34m]\u001b[0m\u001b[0;34m\u001b[0m\u001b[0m\n\u001b[0;32m-> 5067\u001b[0;31m             \u001b[0;32mreturn\u001b[0m \u001b[0mobject\u001b[0m\u001b[0;34m.\u001b[0m\u001b[0m__getattribute__\u001b[0m\u001b[0;34m(\u001b[0m\u001b[0mself\u001b[0m\u001b[0;34m,\u001b[0m \u001b[0mname\u001b[0m\u001b[0;34m)\u001b[0m\u001b[0;34m\u001b[0m\u001b[0m\n\u001b[0m\u001b[1;32m   5068\u001b[0m \u001b[0;34m\u001b[0m\u001b[0m\n\u001b[1;32m   5069\u001b[0m     \u001b[0;32mdef\u001b[0m \u001b[0m__setattr__\u001b[0m\u001b[0;34m(\u001b[0m\u001b[0mself\u001b[0m\u001b[0;34m,\u001b[0m \u001b[0mname\u001b[0m\u001b[0;34m,\u001b[0m \u001b[0mvalue\u001b[0m\u001b[0;34m)\u001b[0m\u001b[0;34m:\u001b[0m\u001b[0;34m\u001b[0m\u001b[0m\n",
      "\u001b[0;31mAttributeError\u001b[0m: (\"'Series' object has no attribute 'split'\", 'occurred at index UPC')"
     ]
    }
   ],
   "source": [
    "lessDat.apply(convertDate)"
   ]
  },
  {
   "cell_type": "code",
   "execution_count": null,
   "metadata": {},
   "outputs": [],
   "source": []
=======
   "execution_count": null,
   "metadata": {},
   "outputs": [],
   "source": [
    "allData['Month'] = allData['Shipping Date'].strip(\"[]\")"
   ]
>>>>>>> e28be6832f10bc16131a7d696d552b27f6341705
  }
 ],
 "metadata": {
  "kernelspec": {
   "display_name": "Python 3",
   "language": "python",
   "name": "python3"
  },
  "language_info": {
   "codemirror_mode": {
    "name": "ipython",
    "version": 3
   },
   "file_extension": ".py",
   "mimetype": "text/x-python",
   "name": "python",
   "nbconvert_exporter": "python",
   "pygments_lexer": "ipython3",
<<<<<<< HEAD
   "version": "3.7.0"
=======
   "version": "3.7.2"
>>>>>>> e28be6832f10bc16131a7d696d552b27f6341705
  }
 },
 "nbformat": 4,
 "nbformat_minor": 2
}
